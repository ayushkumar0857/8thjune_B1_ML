{
 "cells": [
  {
   "cell_type": "code",
   "execution_count": 153,
   "id": "dbe5bbbd-fea1-49b9-bee8-ca0d938fcaba",
   "metadata": {},
   "outputs": [],
   "source": [
    "import pandas as pd\n",
    "import tkinter as tk\n",
    "import matplotlib.pyplot as plt\n",
    "import seaborn as sns"
   ]
  },
  {
   "cell_type": "code",
   "execution_count": 154,
   "id": "89a4300f-78ab-48ae-8bed-45d514a89b6e",
   "metadata": {},
   "outputs": [],
   "source": [
    "m = pd.read_pickle('house_price_predictor.pkl')"
   ]
  },
  {
   "cell_type": "code",
   "execution_count": 155,
   "id": "22c57826-eefb-483c-9428-59df5b0f9260",
   "metadata": {},
   "outputs": [
    {
     "data": {
      "text/plain": [
       "LinearRegression()"
      ]
     },
     "execution_count": 155,
     "metadata": {},
     "output_type": "execute_result"
    }
   ],
   "source": [
    "m"
   ]
  },
  {
   "cell_type": "code",
   "execution_count": 186,
   "id": "204653c5-0993-4936-a18f-747cbd2a526b",
   "metadata": {},
   "outputs": [
    {
     "name": "stdin",
     "output_type": "stream",
     "text": [
      "Enter the income: 450000\n",
      "Enter the house age: 45\n",
      "Enter the number of rooms: 12\n",
      "Enter the population: 46822\n"
     ]
    }
   ],
   "source": [
    "\n",
    "inc = eval(input('Enter the income:'))\n",
    "age = eval(input('Enter the house age:'))\n",
    "room = eval(input('Enter the number of rooms:'))\n",
    "pop = eval(input('Enter the population:'))\n",
    "\n",
    "query = pd.DataFrame({'income':[inc],'house_age':[age], 'rooms':[room],'population':[pop]})"
   ]
  },
  {
   "cell_type": "code",
   "execution_count": 188,
   "id": "7de7f69a-c05e-49d4-b25c-b37f3fec3799",
   "metadata": {},
   "outputs": [
    {
     "data": {
      "text/plain": [
       "16699372.4"
      ]
     },
     "execution_count": 188,
     "metadata": {},
     "output_type": "execute_result"
    }
   ],
   "source": [
    "round(m.predict(query)[0],2)"
   ]
  },
  {
   "cell_type": "code",
   "execution_count": null,
   "id": "ceea4fbd-e7f8-4c10-9f10-e0cc627ae33f",
   "metadata": {},
   "outputs": [],
   "source": [
    "\n",
    "app=tk.Tk()\n",
    "app.geometry('650x350')\n",
    "app.title('House price predictor')\n",
    "app.configure(background='black')\n",
    "\n",
    "def houseprice():\n",
    "    inc=eval(entry_inc.get())\n",
    "    Age=eval(entry_age.get())\n",
    "    Room=eval(entry_room.get())\n",
    "    pop=eval(entry_pop.get())\n",
    "    query=pd.DataFrame({'Income':[inc],'House_age':[Age],'Rooms':[Room],'Population':[pop]})\n",
    "    result.set(round(m.predict(query)[0],2))\n",
    "    \n",
    "    \n",
    "    \n",
    "label=tk.Variable(app)\n",
    "label.set('*****HOUSE PRICE PREDICTOR SYSTEM*****')\n",
    "tk.Label(app,textvariable=label,font=('Algerian',16),fg='red',bg='black').pack()\n",
    "\n",
    "income=tk.Variable(app)\n",
    "income.set('Enter your income: ')\n",
    "tk.Label(app,textvariable=income,font=0).place(x=100,y=60,height=25)\n",
    "\n",
    "age=tk.Variable(app)\n",
    "age.set('Enter the age of House: ')\n",
    "tk.Label(app,textvariable=age,font=0).place(x=100,y=100,height=25)\n",
    "\n",
    "room=tk.Variable(app)\n",
    "room.set('Enter the number of rooms: ')\n",
    "tk.Label(app,textvariable=room,font=0).place(x=100,y=140,height=25)\n",
    "\n",
    "population=tk.Variable(app)\n",
    "population.set('Enter the population in the area: ')\n",
    "tk.Label(app,textvariable=population,font=0,).place(x=100,y=180,height=25)\n",
    "\n",
    "entry_inc=tk.Variable(app)\n",
    "entry_inc.set(' ')\n",
    "tk.Entry(app,textvariable=entry_inc,bg='cyan').place(x=400,y=60,height=25)\n",
    "\n",
    "entry_age=tk.Variable(app)\n",
    "entry_age.set(' ')\n",
    "tk.Entry(app,textvariable=entry_age,bg='cyan').place(x=400,y=100,height=25,)\n",
    "\n",
    "entry_room=tk.Variable(app)\n",
    "entry_room.set(' ')\n",
    "tk.Entry(app,textvariable=entry_room,bg='cyan').place(x=400,y=140,height=25)\n",
    "\n",
    "entry_pop=tk.Variable(app)\n",
    "entry_pop.set(' ')\n",
    "tk.Entry(app,textvariable=entry_pop,bg='cyan').place(x=400,y=180,height=25)\n",
    "\n",
    "tk.Button(app,text='Compute the house price',font=0,command=houseprice,bg='orange',fg='white').place(x=200,y=240,height=35)\n",
    "\n",
    "pricepred=tk.Variable(app)\n",
    "pricepred.set('The best price for your house is : ')\n",
    "tk.Label(app,textvariable=pricepred,font=0).place(x=100,y=300)\n",
    "\n",
    "result=tk.Variable(app)\n",
    "result.set('')\n",
    "tk.Label(app,textvariable=result,font=0,bg='purple',fg='black').place(x=400,y=300)\n",
    "\n",
    "\n",
    "\n",
    "\n",
    "app.mainloop()"
   ]
  }
 ],
 "metadata": {
  "kernelspec": {
   "display_name": "Python 3",
   "language": "python",
   "name": "python3"
  },
  "language_info": {
   "codemirror_mode": {
    "name": "ipython",
    "version": 3
   },
   "file_extension": ".py",
   "mimetype": "text/x-python",
   "name": "python",
   "nbconvert_exporter": "python",
   "pygments_lexer": "ipython3",
   "version": "3.8.8"
  }
 },
 "nbformat": 4,
 "nbformat_minor": 5
}
